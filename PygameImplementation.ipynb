{
 "cells": [
  {
   "cell_type": "markdown",
   "id": "012482c8-dac5-4916-828d-30635d822dfd",
   "metadata": {},
   "source": [
    "## Import Packages"
   ]
  },
  {
   "cell_type": "code",
   "execution_count": 1,
   "id": "e4ceba5a-9b46-4872-a492-01f9cc38d9da",
   "metadata": {},
   "outputs": [
    {
     "name": "stdout",
     "output_type": "stream",
     "text": [
      "pygame 2.6.1 (SDL 2.28.4, Python 3.11.4)\n",
      "Hello from the pygame community. https://www.pygame.org/contribute.html\n"
     ]
    }
   ],
   "source": [
    "import pygame\n",
    "import numpy as np\n",
    "import matplotlib.pyplot as plt #for analyzing sychronization level\n",
    "import cmath\n",
    "import random"
   ]
  },
  {
   "cell_type": "markdown",
   "id": "308ed996-cdef-4541-ac7f-cc0b58c69ae0",
   "metadata": {},
   "source": [
    "## Initialize pygame"
   ]
  },
  {
   "cell_type": "code",
   "execution_count": 2,
   "id": "a486c07d-5127-476f-8a27-a66f106af103",
   "metadata": {
    "tags": []
   },
   "outputs": [],
   "source": [
    "pygame.init()\n",
    "width, height = 800, 300 # window size\n",
    "screen = pygame.display.set_mode((width, height))\n",
    "clock = pygame.time.Clock()"
   ]
  },
  {
   "cell_type": "markdown",
   "id": "d24b56f0-bc3e-4d2f-861a-44a587e15479",
   "metadata": {},
   "source": [
    "## Tree & Firefly Parameters"
   ]
  },
  {
   "cell_type": "code",
   "execution_count": 3,
   "id": "840ae841-7fb3-4c78-ae1e-acbbe155ddeb",
   "metadata": {
    "tags": []
   },
   "outputs": [],
   "source": [
    "num_trees = 15\n",
    "fireflies_per_tree = 5\n",
    "K = 10\n",
    "time_steps = 500\n",
    "tree_y_fixed = height - 100  # fix y position for trees on \"x-axis\"\n",
    "ground_height = 100  # ground area height\n",
    "min_tree_distance = 30  # minimum distance between trees"
   ]
  },
  {
   "cell_type": "markdown",
   "id": "6f7bfd84-138e-4fd3-ae1f-498b0dfc0f8e",
   "metadata": {},
   "source": [
    "## Minimum Tree Distance"
   ]
  },
  {
   "cell_type": "code",
   "execution_count": 4,
   "id": "50b65688-3d5d-4304-b5c2-77d9d1f7d285",
   "metadata": {
    "tags": []
   },
   "outputs": [],
   "source": [
    "def is_position_valid(new_pos, existing_positions, min_distance):\n",
    "    ''' asserts a minimum distance between trees to prevent overlap\n",
    "    \n",
    "        new_pos = position of tree currently being placed\n",
    "        existing_positions = positions of trees already displayed\n",
    "        min_distance = minimum distance parameter between trees\n",
    "    '''\n",
    "    for pos in existing_positions:\n",
    "        dist = np.sqrt((new_pos[0] - pos[0])**2 + (new_pos[1] - pos[1])**2) # difference in x coord **2 + difference in y coord **2\n",
    "        if dist < min_distance:\n",
    "            return False # position not valid\n",
    "    return True # position valid"
   ]
  },
  {
   "cell_type": "markdown",
   "id": "42f641fc-c9da-4765-ba12-2a736087e53a",
   "metadata": {},
   "source": [
    "## Generate Trees"
   ]
  },
  {
   "cell_type": "code",
   "execution_count": 5,
   "id": "9c6daeba-092f-4cec-81f8-5f0f2a37bd4e",
   "metadata": {
    "tags": []
   },
   "outputs": [],
   "source": [
    "tree_positions = [] #init empty list\n",
    "\n",
    "while len(tree_positions) < num_trees: #generate trees until reach num_trees parameter\n",
    "    new_tree_x = random.randint(50, width - 50) # randomly distribute trees between boundary of 50 and total width - 50\n",
    "    new_tree_y = tree_y_fixed # fix them to x-axis\n",
    "    new_tree_pos = (new_tree_x, new_tree_y)\n",
    "    \n",
    "    # add position only if it's valid from minimum tree distance\n",
    "    if is_position_valid(new_tree_pos, tree_positions, min_tree_distance):\n",
    "        tree_positions.append(new_tree_pos)"
   ]
  },
  {
   "cell_type": "markdown",
   "id": "665a7a28-9424-495b-9fb4-49881a5d0dd2",
   "metadata": {},
   "source": [
    "## Generate Fireflies"
   ]
  },
  {
   "cell_type": "code",
   "execution_count": 6,
   "id": "82e3a605-356a-43e1-a8c6-910886a61471",
   "metadata": {
    "tags": []
   },
   "outputs": [],
   "source": [
    "# init empty list\n",
    "fireflies = []\n",
    "phases = []\n",
    "frequencies = []\n",
    "\n",
    "for (tree_x, tree_y) in tree_positions: # for each tree\n",
    "    for _ in range(fireflies_per_tree):\n",
    "        # firefly position with a small random offset around the tree along y-axis and x-axis\n",
    "        offset_x = random.randint(-15, 15)\n",
    "        offset_y = random.randint(-15, 15)\n",
    "        fireflies.append((tree_x + offset_x, tree_y + offset_y))\n",
    "        \n",
    "        # random initial phases and natural frequencies\n",
    "        phases.append(random.uniform(0, 2 * np.pi)) #uniformly spread out between 0 and 2pi\n",
    "        frequencies.append(np.random.normal(0, 0.1)) # \" \" 0 and 0.1\n",
    "        \n",
    "synchronization_levels = [] #init list for synchronization levels"
   ]
  },
  {
   "cell_type": "markdown",
   "id": "74bc692d-5236-41cc-8e76-8470b0dab028",
   "metadata": {},
   "source": [
    "## Coupling Strength\n",
    "\n",
    "Affect each other by relationship: $\\max{\\left( \\frac{1}{\\sqrt{(x_1 - x_2)^2 ~+~ (y_1 - y_2)^2}}, 1 \\right)}$"
   ]
  },
  {
   "cell_type": "code",
   "execution_count": 7,
   "id": "8444ee09-396d-4d80-a75e-ebe82cb0bdaf",
   "metadata": {
    "tags": []
   },
   "outputs": [],
   "source": [
    "def coupling_strength(pos1, pos2, max_radius=20):\n",
    "    dist = np.sqrt((pos1[0] - pos2[0])**2 + (pos1[1] - pos2[1])**2)\n",
    "    \n",
    "    if dist < max_radius:\n",
    "        return 1  # maximum influence within max_radius\n",
    "    else:\n",
    "        return 1 / dist  # Slower decay for distances beyond max_radius"
   ]
  },
  {
   "cell_type": "markdown",
   "id": "27dac868-316b-4bb7-a10b-f8bf0bbbf5e2",
   "metadata": {},
   "source": [
    "## Order Parameter"
   ]
  },
  {
   "cell_type": "code",
   "execution_count": 8,
   "id": "cd0cefd7-6009-4764-89eb-100adfa7df30",
   "metadata": {
    "tags": []
   },
   "outputs": [],
   "source": [
    "def calculate_order_parameter(phases):\n",
    "    ''' calculates order parameter r(t)\n",
    "        phases = takes in phase angle of each oscillator\n",
    "    '''\n",
    "    complex_sum = sum(cmath.exp(1j * theta) for theta in phases) # calculates e^i*theta \n",
    "    return abs(complex_sum) / len(phases) #total sum of all phase angles represented as points on the unit circle"
   ]
  },
  {
   "cell_type": "markdown",
   "id": "2ff7e57d-2084-44c6-8fa2-c9d4d9fb00f4",
   "metadata": {},
   "source": [
    "## Main Loop"
   ]
  },
  {
   "cell_type": "code",
   "execution_count": 9,
   "id": "838b70a8-90f2-4bf8-b503-a0ee1632b890",
   "metadata": {
    "tags": []
   },
   "outputs": [],
   "source": [
    "running = True\n",
    "t = 0\n",
    "while running and t < time_steps:\n",
    "    for event in pygame.event.get():\n",
    "        if event.type == pygame.QUIT: # quit if window closes\n",
    "            running = False\n",
    "\n",
    "    # fill screen with background color (sky)\n",
    "    screen.fill((0, 29, 61))  # Dark blue for night sky\n",
    "\n",
    "    # draw ground\n",
    "    pygame.draw.rect(screen, (34, 139, 34), (0, height - ground_height, width, ground_height))  # Green ground\n",
    "\n",
    "    # draw trees\n",
    "    for (tree_x, tree_y) in tree_positions:\n",
    "        pygame.draw.rect(screen, (139, 69, 19), (tree_x - 5, tree_y, 10, 30))  # tree trunk\n",
    "        pygame.draw.circle(screen, (34, 139, 34), (tree_x, tree_y - 15), 20)   # tree foliage\n",
    "\n",
    "    # update phases based on the Kuramoto model with distance-based decay\n",
    "    num_fireflies = len(fireflies)\n",
    "    for i in range(num_fireflies):\n",
    "        pos_i = fireflies[i] #retrieve positon of firefly\n",
    "        phase_i = phases[i] #retrieve phase of firefly\n",
    "        coupling_sum = 0 #init variable to accumulate phase coupling affect from other fireflies\n",
    "        \n",
    "        for j in range(num_fireflies): # loop over all other fireflies\n",
    "            if i != j: # firefly doesn't influence themselves\n",
    "                pos_j = fireflies[j]\n",
    "                phase_j = phases[j]\n",
    "                \n",
    "                # apply distance-based coupling decay\n",
    "                G_ij = coupling_strength(pos_i, pos_j) #calculate coupling strength between firefly i and firefly j \n",
    "                # add weighted phase difference to coupling_sum\n",
    "                coupling_sum += G_ij * np.sin(phase_j - phase_i) # sin(phase_j - phase_i) = phase difference\n",
    "\n",
    "        # update phase based on coupling sum\n",
    "        phases[i] += frequencies[i] + (K / num_fireflies) * coupling_sum\n",
    "\n",
    "    # calculate synchronization level\n",
    "    r_t = calculate_order_parameter(phases)\n",
    "    synchronization_levels.append(r_t)\n",
    "\n",
    "    # draw fireflies near their assigned tree positions\n",
    "    for index, (x, y) in enumerate(fireflies):\n",
    "        # map phase to yellow intensity\n",
    "        #1 + cos/2 changes bounds on cos from -1,1 to 0,1 -- multiply by 255 to get an intensity value between 0 and 255\n",
    "        intensity = int(255 * (1 + np.cos(phases[index])) / 2)  # from 0 (black) to 255 (yellow)\n",
    "        color = (intensity, intensity, 0) # (R, G, B)\n",
    "        pygame.draw.circle(screen, color, (x, y), 5) #firefly as circle\n",
    "\n",
    "    pygame.display.flip()\n",
    "    clock.tick(30)  # control frame rate\n",
    "    t += 1\n",
    "\n",
    "pygame.quit()"
   ]
  },
  {
   "cell_type": "markdown",
   "id": "e9dcf3aa-a8b3-49d7-9be6-8b13fab707a6",
   "metadata": {},
   "source": [
    "## Plot Synchronization Levels over time"
   ]
  },
  {
   "cell_type": "code",
   "execution_count": 10,
   "id": "d882f32c-9f3f-4ab0-b393-3347ada4c04f",
   "metadata": {
    "tags": []
   },
   "outputs": [
    {
     "data": {
      "image/png": "[encoded data removed]",
      "text/plain": [
       "<Figure size 640x480 with 1 Axes>"
      ]
     },
     "metadata": {},
     "output_type": "display_data"
    }
   ],
   "source": [
    "# Plot synchronization levels over time using matplotlib\n",
    "plt.plot(synchronization_levels, label=\"Synchronization Level (r(t))\")\n",
    "plt.xlabel(\"Time Steps\")\n",
    "plt.ylabel(\"Synchronization Level\")\n",
    "plt.title(\"Synchronization Over Time\")\n",
    "plt.legend()\n",
    "plt.show()"
   ]
  },
  {
   "cell_type": "code",
   "execution_count": null,
   "id": "c50a8e91-2643-4df7-a70f-8398b4ca8c6d",
   "metadata": {},
   "outputs": [],
   "source": []
  },
  {
   "cell_type": "code",
   "execution_count": null,
   "id": "3cffb41d-3225-433f-a269-8a914c912195",
   "metadata": {},
   "outputs": [],
   "source": []
  }
 ],
 "metadata": {
  "kernelspec": {
   "display_name": "Python 3 (ipykernel)",
   "language": "python",
   "name": "python3"
  },
  "language_info": {
   "codemirror_mode": {
    "name": "ipython",
    "version": 3
   },
   "file_extension": ".py",
   "mimetype": "text/x-python",
   "name": "python",
   "nbconvert_exporter": "python",
   "pygments_lexer": "ipython3",
   "version": "3.11.4"
  }
 },
 "nbformat": 4,
 "nbformat_minor": 5
}
