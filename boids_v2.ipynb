{
 "cells": [
  {
   "cell_type": "code",
   "execution_count": 1,
   "id": "5bb19c6c-a127-4494-91a3-8d80293a464f",
   "metadata": {
    "tags": []
   },
   "outputs": [
    {
     "ename": "ModuleNotFoundError",
     "evalue": "No module named 'manim'",
     "output_type": "error",
     "traceback": [
      "\u001b[0;31m---------------------------------------------------------------------------\u001b[0m",
      "\u001b[0;31mModuleNotFoundError\u001b[0m                       Traceback (most recent call last)",
      "Cell \u001b[0;32mIn[1], line 1\u001b[0m\n\u001b[0;32m----> 1\u001b[0m \u001b[38;5;28;01mfrom\u001b[39;00m \u001b[38;5;21;01mmanim\u001b[39;00m \u001b[38;5;28;01mimport\u001b[39;00m \u001b[38;5;241m*\u001b[39m\n\u001b[1;32m      2\u001b[0m \u001b[38;5;28;01mimport\u001b[39;00m \u001b[38;5;21;01mnumpy\u001b[39;00m \u001b[38;5;28;01mas\u001b[39;00m \u001b[38;5;21;01mnp\u001b[39;00m\n\u001b[1;32m      4\u001b[0m num_trees \u001b[38;5;241m=\u001b[39m \u001b[38;5;241m20\u001b[39m  \u001b[38;5;66;03m# Example number of trees\u001b[39;00m\n",
      "\u001b[0;31mModuleNotFoundError\u001b[0m: No module named 'manim'"
     ]
    }
   ],
   "source": [
    "from manim import *\n",
    "import numpy as np\n",
    "\n",
    "num_trees = 20  # Example number of trees\n",
    "tree_positions = np.random.rand(num_trees, 2) * 10  # Scale as needed for the scene\n",
    "phases = np.random.uniform(0, 2 * np.pi, num_trees)\n",
    "natural_frequencies = np.random.uniform(0.8, 1.2, num_trees)  # Random frequencies close to 1\n",
    "\n",
    "def kuramoto_step(phases, positions, dt=0.01):\n",
    "    new_phases = phases.copy()\n",
    "    for i in range(num_trees):\n",
    "        dtheta_dt = natural_frequencies[i]\n",
    "        for j in range(num_trees):\n",
    "            if i != j:\n",
    "                dist = np.linalg.norm(positions[i] - positions[j])\n",
    "                coupling_strength = min(1 / dist, 1)\n",
    "                dtheta_dt += coupling_strength * np.sin(phases[j] - phases[i])\n",
    "        new_phases[i] += dtheta_dt * dt\n",
    "    return new_phases\n",
    "\n",
    "from manim import *\n",
    "\n",
    "class FireflyKuramoto(Scene):\n",
    "    def construct(self):\n",
    "        # Create tree locations as points\n",
    "        tree_dots = [Dot(point=[x, y, 0], color=GREEN) for x, y in tree_positions]\n",
    "        fireflies = [Dot(point=[x, y, 0], color=YELLOW) for x, y in tree_positions]\n",
    "\n",
    "        # Add trees and fireflies to the scene\n",
    "        for tree in tree_dots:\n",
    "            self.add(tree)\n",
    "        for firefly in fireflies:\n",
    "            self.add(firefly)\n",
    "        \n",
    "        # Phase animation loop\n",
    "        phases = np.random.uniform(0, 2 * np.pi, num_trees)\n",
    "        dt = 0.1  # Time step\n",
    "\n",
    "        def update_fireflies(fireflies, dt):\n",
    "            nonlocal phases\n",
    "            phases = kuramoto_step(phases, tree_positions, dt)\n",
    "            for i, firefly in enumerate(fireflies):\n",
    "                brightness = (1 + np.sin(phases[i])) / 2  # Oscillate brightness\n",
    "                firefly.set_color(YELLOW.interpolate(WHITE, brightness))\n",
    "            return fireflies\n",
    "        \n",
    "        # Attach updater to animate fireflies\n",
    "        self.add_updater(lambda m, dt: update_fireflies(fireflies, dt))\n",
    "        self.wait(10)  # Adjust duration for the full animation\n"
   ]
  },
  {
   "cell_type": "code",
   "execution_count": null,
   "id": "d3eca38f-c19a-42da-b035-6beaa6e42760",
   "metadata": {},
   "outputs": [],
   "source": []
  }
 ],
 "metadata": {
  "kernelspec": {
   "display_name": "Python 3 (ipykernel)",
   "language": "python",
   "name": "python3"
  },
  "language_info": {
   "codemirror_mode": {
    "name": "ipython",
    "version": 3
   },
   "file_extension": ".py",
   "mimetype": "text/x-python",
   "name": "python",
   "nbconvert_exporter": "python",
   "pygments_lexer": "ipython3",
   "version": "3.11.4"
  }
 },
 "nbformat": 4,
 "nbformat_minor": 5
}
